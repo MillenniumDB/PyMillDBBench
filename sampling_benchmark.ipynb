{
 "cells": [
  {
   "cell_type": "code",
   "execution_count": 2,
   "metadata": {},
   "outputs": [],
   "source": [
    "from time import perf_counter_ns\n",
    "\n",
    "import numpy as np\n",
    "from pymilldb import MDBClient, Sampler, TensorStore\n",
    "from torch_geometric.datasets import FakeDataset\n",
    "\n",
    "from benchmark_interface import MillenniumDBBenchmark, clear_os, stop_process"
   ]
  },
  {
   "cell_type": "code",
   "execution_count": 3,
   "metadata": {},
   "outputs": [],
   "source": [
    "def random_graph(avg_num_nodes, avg_degree, num_node_features):\n",
    "    g = FakeDataset(\n",
    "        num_graphs=1,\n",
    "        avg_num_nodes=avg_num_nodes,\n",
    "        avg_degree=avg_degree,\n",
    "        num_channels=num_node_features,\n",
    "        edge_dim=10,\n",
    "        num_classes=1,\n",
    "        is_undirected=True,\n",
    "    ).generate_data()\n",
    "    del g.y\n",
    "    return g"
   ]
  },
  {
   "cell_type": "code",
   "execution_count": 4,
   "metadata": {},
   "outputs": [],
   "source": [
    "AVG_NUM_NODES = 100\n",
    "AVG_DEGREE = 10\n",
    "NUM_NODE_FEATURES = 5\n",
    "PORT = 8080\n",
    "NUM_SAMPLES = 10\n",
    "NAME = f\"FakeDataset_N{AVG_NUM_NODES}_D{AVG_DEGREE}_F{NUM_NODE_FEATURES}\"\n",
    "GRAPH = random_graph(AVG_NUM_NODES, AVG_DEGREE, NUM_NODE_FEATURES)"
   ]
  },
  {
   "attachments": {},
   "cell_type": "markdown",
   "metadata": {},
   "source": [
    "# MillenniumDB"
   ]
  },
  {
   "cell_type": "code",
   "execution_count": 5,
   "metadata": {},
   "outputs": [
    {
     "name": "stdout",
     "output_type": "stream",
     "text": [
      "Database already exists: FakeDataset_N100_D10_F5\n",
      "Deleting database...\n",
      "Creating database: FakeDataset_N100_D10_F5\n",
      "Database created\n",
      "Launching server...\n"
     ]
    }
   ],
   "source": [
    "# MillenniumDB\n",
    "mdbbench = MillenniumDBBenchmark(\n",
    "    data_path=\"./tmp/MillenniumDB\",\n",
    "    create_db_path=\"/home/zeus/MDB/MillenniumDB-Dev/build/Release/bin/create_db\",\n",
    "    server_pymilldb_path=\"/home/zeus/MDB/MillenniumDB-Dev/build/Release/bin/server_pymilldb\",\n",
    ")\n",
    "\n",
    "if mdbbench.database_exists(NAME):\n",
    "    print(\"Database already exists:\", NAME)\n",
    "    print(\"Deleting database...\")\n",
    "    mdbbench.delete_database(NAME)\n",
    "print(\"Creating database:\", NAME)\n",
    "mdbbench.create_database(NAME, GRAPH)\n",
    "print(\"Database created\")\n",
    "\n",
    "print(\"Launching server...\")\n",
    "# clear_os()\n",
    "server_process = mdbbench.start_server(name=NAME, port=PORT)\n",
    "mdb_times = list()\n",
    "with MDBClient(\"localhost\", PORT) as client:\n",
    "    s = Sampler(client)\n",
    "    ts = TensorStore(client, \"feat\")\n",
    "    print(\"Starting sampling...\")\n",
    "    for _ in range(NUM_SAMPLES):\n",
    "        t0 = perf_counter_ns()\n",
    "        g = s.subgraph(10, [5, 5])\n",
    "        g.x = ts[g.node_ids]\n",
    "        mdb_times.append(perf_counter_ns() - t0)\n",
    "    print(\"Finished sampling:\")\n",
    "    print(f\"AVG: {np.mean(mdb_times)/1e9}s\")\n",
    "    print(f\"STD: {np.std(mdb_times)/1e9}s\")\n",
    "print(\"Stoping server...\")\n",
    "stop_process(server_process)\n",
    "print(\"Server stopped\")\n"
   ]
  }
 ],
 "metadata": {
  "kernelspec": {
   "display_name": "Python 3",
   "language": "python",
   "name": "python3"
  },
  "language_info": {
   "codemirror_mode": {
    "name": "ipython",
    "version": 3
   },
   "file_extension": ".py",
   "mimetype": "text/x-python",
   "name": "python",
   "nbconvert_exporter": "python",
   "pygments_lexer": "ipython3",
   "version": "3.10.6"
  },
  "orig_nbformat": 4
 },
 "nbformat": 4,
 "nbformat_minor": 2
}
