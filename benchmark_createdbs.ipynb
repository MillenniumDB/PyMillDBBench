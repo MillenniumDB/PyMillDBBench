{
 "cells": [
  {
   "cell_type": "markdown",
   "metadata": {},
   "source": [
    "## Imports"
   ]
  },
  {
   "cell_type": "code",
   "execution_count": 5,
   "metadata": {},
   "outputs": [],
   "source": [
    "from benchmark_drivers import BenchmarkDriver, MillenniumDBDriver, clear_os, stop_process, random_graph\n",
    "from torch_geometric.data import Data"
   ]
  },
  {
   "cell_type": "markdown",
   "metadata": {},
   "source": [
    "## Driver instances"
   ]
  },
  {
   "cell_type": "code",
   "execution_count": 6,
   "metadata": {},
   "outputs": [],
   "source": [
    "milldb_driver = MillenniumDBDriver(\n",
    "    data_path=\"./data/MillenniumDB\",\n",
    "    create_db_path=\"/home/mdbai/MillenniumDB-Dev/build/Release/bin/create_db\",\n",
    "    server_pymilldb_path=\"/home/mdbai/MillenniumDB-Dev/build/Release/bin/server_pymilldb\",\n",
    ")"
   ]
  },
  {
   "cell_type": "markdown",
   "metadata": {},
   "source": [
    "## Create databases"
   ]
  },
  {
   "cell_type": "code",
   "execution_count": 7,
   "metadata": {},
   "outputs": [],
   "source": [
    "def create_or_skip(driver: BenchmarkDriver, graph_name: str, graph: Data):\n",
    "    if driver.database_exists(graph_name):\n",
    "        print(f\"Database {graph_name} already exists. Skipping creation...\")\n",
    "    else:\n",
    "        print(f\"Creating database {graph_name}...\")\n",
    "        driver.create_database(graph_name, graph)\n",
    "        print(f\"Database {graph_name} created\")"
   ]
  },
  {
   "cell_type": "code",
   "execution_count": null,
   "metadata": {},
   "outputs": [
    {
     "name": "stdout",
     "output_type": "stream",
     "text": [
      "Creating database N100000.D10.F10...\n",
      "Database N100000.D10.F10 created\n",
      "Creating database N1000000.D10.F10...\n"
     ]
    }
   ],
   "source": [
    "graphs_argslist = [\n",
    "    # [avg_num_nodes, avg_degree, num_node_features]\n",
    "    [      100_000, 10, 10],\n",
    "    [    1_000_000, 10, 10],\n",
    "    [   10_000_000, 10, 10],\n",
    "    [  100_000_000, 10, 10],\n",
    "]\n",
    "\n",
    "for graph_args in graphs_argslist:\n",
    "    graph_name = f\"N{graph_args[0]}.D{graph_args[1]}.F{graph_args[2]}\"\n",
    "    \n",
    "    # pickle dump\n",
    "    graph = random_graph(\"./data/pkl\", *graph_args)\n",
    "    \n",
    "    # MillenniumDB\n",
    "    create_or_skip(milldb_driver, graph_name, graph)"
   ]
  }
 ],
 "metadata": {
  "kernelspec": {
   "display_name": "Python 3 (ipykernel)",
   "language": "python",
   "name": "python3"
  },
  "language_info": {
   "codemirror_mode": {
    "name": "ipython",
    "version": 3
   },
   "file_extension": ".py",
   "mimetype": "text/x-python",
   "name": "python",
   "nbconvert_exporter": "python",
   "pygments_lexer": "ipython3",
   "version": "3.10.12"
  }
 },
 "nbformat": 4,
 "nbformat_minor": 2
}
